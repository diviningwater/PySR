{
 "cells": [
  {
   "cell_type": "markdown",
   "metadata": {
    "id": "DS4E1PagbDgL"
   },
   "source": [
    "# Example Application to estimate clumpiness factor from spectral and structural data in vineyards\n",
    "From Sergio's data"
   ]
  },
  {
   "cell_type": "markdown",
   "metadata": {
    "id": "tQ1r1bbb0yBv"
   },
   "source": [
    "## Instructions\n",
    "If you have not installed pysr, run cell below."
   ]
  },
  {
   "cell_type": "markdown",
   "metadata": {
    "colab": {
     "base_uri": "https://localhost:8080/"
    },
    "id": "EhMRSZEYFPLz",
    "outputId": "e3aad3cb-d921-473e-b77b-8fa6a3a9e2e8"
   },
   "source": [
    "%pip install -U pysr"
   ]
  },
  {
   "cell_type": "markdown",
   "metadata": {},
   "source": [
    "Julia and Julia dependencies are installed at first import:"
   ]
  },
  {
   "cell_type": "code",
   "execution_count": 1,
   "metadata": {
    "scrolled": true
   },
   "outputs": [
    {
     "name": "stdout",
     "output_type": "stream",
     "text": [
      "Detected IPython. Loading juliacall extension. See https://juliapy.github.io/PythonCall.jl/stable/compat/#IPython\n"
     ]
    }
   ],
   "source": [
    "import pysr"
   ]
  },
  {
   "cell_type": "markdown",
   "metadata": {
    "id": "qeCPKd9wldEK"
   },
   "source": [
    "Now, let's import everything else as well as the PySRRegressor:\n"
   ]
  },
  {
   "cell_type": "code",
   "execution_count": 2,
   "metadata": {
    "id": "vFpyRxmhFqeH"
   },
   "outputs": [],
   "source": [
    "import sympy\n",
    "import numpy as np\n",
    "from matplotlib import pyplot as plt\n",
    "from pysr import PySRRegressor\n",
    "from sklearn.model_selection import train_test_split\n",
    "import pandas as pd"
   ]
  },
  {
   "cell_type": "markdown",
   "metadata": {
    "id": "gsRMQ7grbDga"
   },
   "source": [
    "# Simple PySR example:\n"
   ]
  },
  {
   "cell_type": "markdown",
   "metadata": {
    "id": "myTEwdiUFiGL"
   },
   "source": [
    "use Sergio's v4 dataset, predict LAI"
   ]
  },
  {
   "cell_type": "code",
   "execution_count": 3,
   "metadata": {},
   "outputs": [
    {
     "name": "stdout",
     "output_type": "stream",
     "text": [
      "        Red     Green      Blue       NIR        FC       ch1        CH  \\\n",
      "0  0.020630  0.030237  0.003344  0.219818  0.680556  2.275999  2.451676   \n",
      "1  0.020253  0.030407  0.003233  0.223823  0.652778  2.180176  2.469830   \n",
      "2  0.022048  0.030032  0.003725  0.210354  0.598958  2.232824  2.363652   \n",
      "3  0.022679  0.030747  0.003710  0.220522  0.500000  1.980601  2.298613   \n",
      "4  0.023883  0.028469  0.003943  0.198092  0.522569  2.300652  2.226254   \n",
      "\n",
      "         wc        WC      geom  ...      RGRI       RI4XS        SI  \\\n",
      "0  1.076450  0.999317  5.576198  ...  0.682277  509.138228  0.981867   \n",
      "1  1.077895  0.951482  5.123413  ...  0.666062  479.839566  0.981972   \n",
      "2  0.965705  0.912254  4.814528  ...  0.734158  597.604433  0.981337   \n",
      "3  0.908815  0.783081  3.565081  ...  0.737611  575.514103  0.980890   \n",
      "4  0.817703  0.845029  4.328101  ...  0.838918  868.336743  0.981177   \n",
      "\n",
      "          SR      TDVI       TGI       TVI      TriVI      VARI   VrNIRBI  \n",
      "0  10.655179  0.396112  1.949825  1.152563  12.335578  0.202156 -0.828402  \n",
      "1  11.051530  0.404329  1.985818  1.155009  12.620359  0.214097 -0.834046  \n",
      "2   9.540687  0.375348  1.857834  1.144665  11.617722  0.165107 -0.810259  \n",
      "3   9.723576  0.392624  1.904586  1.146078  12.193292  0.162274 -0.813495  \n",
      "4   8.294135  0.348224  1.632083  1.133495  10.635933  0.094731 -0.784811  \n",
      "\n",
      "[5 rows x 73 columns]\n"
     ]
    }
   ],
   "source": [
    "df = pd.read_csv('RGBNIR_DSM_CHM_VIf_v4.csv')\n",
    "# print(df.head())\n",
    "X = df.iloc[:,1:-2]\n",
    "y = df.iloc[:,-1]\n",
    "print(X.head())\n"
   ]
  },
  {
   "cell_type": "markdown",
   "metadata": {
    "id": "cturCkaVjzLs"
   },
   "source": [
    "By default, we will set up 30 populations of expressions (which evolve independently except for migrations),# use 4 threads, and use `\"best\"` for our model selection strategy:"
   ]
  },
  {
   "cell_type": "code",
   "execution_count": 4,
   "metadata": {
    "id": "4nDAAnisdhTc"
   },
   "outputs": [],
   "source": [
    "default_pysr_params = dict(\n",
    "    populations=30,\n",
    "    model_selection=\"best\", #\"score\" is also an option,\n",
    "    random_state=0, # the 3 lines below ensure reproducible results\n",
    "    deterministic=True,\n",
    "    parallelism='serial',\n",
    "    # select_k_features=10, # to automatically select few predictors from the entire set of predictor options, activate/deactive as you wish\n",
    "    # denoise=True, # to remove scatteting on y, activate/deactivate as you wish\n",
    "    verbosity =0,\n",
    "    # elementwise_loss ='L2DistLoss', #The least squares loss metric\n",
    ")"
   ]
  },
  {
   "cell_type": "markdown",
   "metadata": {
    "id": "N4gANfkaj8ie"
   },
   "source": [
    "PySR can run for arbitrarily long, and continue to find more and more accurate expressions. You can set the total number of cycles of evolution with `niterations`, although there are also a [few more ways](https://github.com/MilesCranmer/PySR/pull/134) to stop execution.\n",
    "\n",
    "**This first execution will take a bit longer to startup, as the library is JIT-compiled. The next execution will be much faster.**"
   ]
  },
  {
   "cell_type": "code",
   "execution_count": 5,
   "metadata": {
    "colab": {
     "base_uri": "https://localhost:8080/",
     "height": 1000
    },
    "id": "p4PSrO-NK1Wa",
    "outputId": "55910ab3-895d-400b-e9ce-c75aef639c68"
   },
   "outputs": [
    {
     "name": "stderr",
     "output_type": "stream",
     "text": [
      "C:\\Users\\alfon\\anaconda3\\envs\\PySR\\Lib\\site-packages\\pysr\\sr.py:2776: UserWarning: Note: it looks like you are running in Jupyter. The progress bar will be turned off.\n",
      "  warnings.warn(\n"
     ]
    },
    {
     "data": {
      "text/html": [
       "<style>#sk-container-id-1 {\n",
       "  /* Definition of color scheme common for light and dark mode */\n",
       "  --sklearn-color-text: #000;\n",
       "  --sklearn-color-text-muted: #666;\n",
       "  --sklearn-color-line: gray;\n",
       "  /* Definition of color scheme for unfitted estimators */\n",
       "  --sklearn-color-unfitted-level-0: #fff5e6;\n",
       "  --sklearn-color-unfitted-level-1: #f6e4d2;\n",
       "  --sklearn-color-unfitted-level-2: #ffe0b3;\n",
       "  --sklearn-color-unfitted-level-3: chocolate;\n",
       "  /* Definition of color scheme for fitted estimators */\n",
       "  --sklearn-color-fitted-level-0: #f0f8ff;\n",
       "  --sklearn-color-fitted-level-1: #d4ebff;\n",
       "  --sklearn-color-fitted-level-2: #b3dbfd;\n",
       "  --sklearn-color-fitted-level-3: cornflowerblue;\n",
       "\n",
       "  /* Specific color for light theme */\n",
       "  --sklearn-color-text-on-default-background: var(--sg-text-color, var(--theme-code-foreground, var(--jp-content-font-color1, black)));\n",
       "  --sklearn-color-background: var(--sg-background-color, var(--theme-background, var(--jp-layout-color0, white)));\n",
       "  --sklearn-color-border-box: var(--sg-text-color, var(--theme-code-foreground, var(--jp-content-font-color1, black)));\n",
       "  --sklearn-color-icon: #696969;\n",
       "\n",
       "  @media (prefers-color-scheme: dark) {\n",
       "    /* Redefinition of color scheme for dark theme */\n",
       "    --sklearn-color-text-on-default-background: var(--sg-text-color, var(--theme-code-foreground, var(--jp-content-font-color1, white)));\n",
       "    --sklearn-color-background: var(--sg-background-color, var(--theme-background, var(--jp-layout-color0, #111)));\n",
       "    --sklearn-color-border-box: var(--sg-text-color, var(--theme-code-foreground, var(--jp-content-font-color1, white)));\n",
       "    --sklearn-color-icon: #878787;\n",
       "  }\n",
       "}\n",
       "\n",
       "#sk-container-id-1 {\n",
       "  color: var(--sklearn-color-text);\n",
       "}\n",
       "\n",
       "#sk-container-id-1 pre {\n",
       "  padding: 0;\n",
       "}\n",
       "\n",
       "#sk-container-id-1 input.sk-hidden--visually {\n",
       "  border: 0;\n",
       "  clip: rect(1px 1px 1px 1px);\n",
       "  clip: rect(1px, 1px, 1px, 1px);\n",
       "  height: 1px;\n",
       "  margin: -1px;\n",
       "  overflow: hidden;\n",
       "  padding: 0;\n",
       "  position: absolute;\n",
       "  width: 1px;\n",
       "}\n",
       "\n",
       "#sk-container-id-1 div.sk-dashed-wrapped {\n",
       "  border: 1px dashed var(--sklearn-color-line);\n",
       "  margin: 0 0.4em 0.5em 0.4em;\n",
       "  box-sizing: border-box;\n",
       "  padding-bottom: 0.4em;\n",
       "  background-color: var(--sklearn-color-background);\n",
       "}\n",
       "\n",
       "#sk-container-id-1 div.sk-container {\n",
       "  /* jupyter's `normalize.less` sets `[hidden] { display: none; }`\n",
       "     but bootstrap.min.css set `[hidden] { display: none !important; }`\n",
       "     so we also need the `!important` here to be able to override the\n",
       "     default hidden behavior on the sphinx rendered scikit-learn.org.\n",
       "     See: https://github.com/scikit-learn/scikit-learn/issues/21755 */\n",
       "  display: inline-block !important;\n",
       "  position: relative;\n",
       "}\n",
       "\n",
       "#sk-container-id-1 div.sk-text-repr-fallback {\n",
       "  display: none;\n",
       "}\n",
       "\n",
       "div.sk-parallel-item,\n",
       "div.sk-serial,\n",
       "div.sk-item {\n",
       "  /* draw centered vertical line to link estimators */\n",
       "  background-image: linear-gradient(var(--sklearn-color-text-on-default-background), var(--sklearn-color-text-on-default-background));\n",
       "  background-size: 2px 100%;\n",
       "  background-repeat: no-repeat;\n",
       "  background-position: center center;\n",
       "}\n",
       "\n",
       "/* Parallel-specific style estimator block */\n",
       "\n",
       "#sk-container-id-1 div.sk-parallel-item::after {\n",
       "  content: \"\";\n",
       "  width: 100%;\n",
       "  border-bottom: 2px solid var(--sklearn-color-text-on-default-background);\n",
       "  flex-grow: 1;\n",
       "}\n",
       "\n",
       "#sk-container-id-1 div.sk-parallel {\n",
       "  display: flex;\n",
       "  align-items: stretch;\n",
       "  justify-content: center;\n",
       "  background-color: var(--sklearn-color-background);\n",
       "  position: relative;\n",
       "}\n",
       "\n",
       "#sk-container-id-1 div.sk-parallel-item {\n",
       "  display: flex;\n",
       "  flex-direction: column;\n",
       "}\n",
       "\n",
       "#sk-container-id-1 div.sk-parallel-item:first-child::after {\n",
       "  align-self: flex-end;\n",
       "  width: 50%;\n",
       "}\n",
       "\n",
       "#sk-container-id-1 div.sk-parallel-item:last-child::after {\n",
       "  align-self: flex-start;\n",
       "  width: 50%;\n",
       "}\n",
       "\n",
       "#sk-container-id-1 div.sk-parallel-item:only-child::after {\n",
       "  width: 0;\n",
       "}\n",
       "\n",
       "/* Serial-specific style estimator block */\n",
       "\n",
       "#sk-container-id-1 div.sk-serial {\n",
       "  display: flex;\n",
       "  flex-direction: column;\n",
       "  align-items: center;\n",
       "  background-color: var(--sklearn-color-background);\n",
       "  padding-right: 1em;\n",
       "  padding-left: 1em;\n",
       "}\n",
       "\n",
       "\n",
       "/* Toggleable style: style used for estimator/Pipeline/ColumnTransformer box that is\n",
       "clickable and can be expanded/collapsed.\n",
       "- Pipeline and ColumnTransformer use this feature and define the default style\n",
       "- Estimators will overwrite some part of the style using the `sk-estimator` class\n",
       "*/\n",
       "\n",
       "/* Pipeline and ColumnTransformer style (default) */\n",
       "\n",
       "#sk-container-id-1 div.sk-toggleable {\n",
       "  /* Default theme specific background. It is overwritten whether we have a\n",
       "  specific estimator or a Pipeline/ColumnTransformer */\n",
       "  background-color: var(--sklearn-color-background);\n",
       "}\n",
       "\n",
       "/* Toggleable label */\n",
       "#sk-container-id-1 label.sk-toggleable__label {\n",
       "  cursor: pointer;\n",
       "  display: flex;\n",
       "  width: 100%;\n",
       "  margin-bottom: 0;\n",
       "  padding: 0.5em;\n",
       "  box-sizing: border-box;\n",
       "  text-align: center;\n",
       "  align-items: start;\n",
       "  justify-content: space-between;\n",
       "  gap: 0.5em;\n",
       "}\n",
       "\n",
       "#sk-container-id-1 label.sk-toggleable__label .caption {\n",
       "  font-size: 0.6rem;\n",
       "  font-weight: lighter;\n",
       "  color: var(--sklearn-color-text-muted);\n",
       "}\n",
       "\n",
       "#sk-container-id-1 label.sk-toggleable__label-arrow:before {\n",
       "  /* Arrow on the left of the label */\n",
       "  content: \"▸\";\n",
       "  float: left;\n",
       "  margin-right: 0.25em;\n",
       "  color: var(--sklearn-color-icon);\n",
       "}\n",
       "\n",
       "#sk-container-id-1 label.sk-toggleable__label-arrow:hover:before {\n",
       "  color: var(--sklearn-color-text);\n",
       "}\n",
       "\n",
       "/* Toggleable content - dropdown */\n",
       "\n",
       "#sk-container-id-1 div.sk-toggleable__content {\n",
       "  max-height: 0;\n",
       "  max-width: 0;\n",
       "  overflow: hidden;\n",
       "  text-align: left;\n",
       "  /* unfitted */\n",
       "  background-color: var(--sklearn-color-unfitted-level-0);\n",
       "}\n",
       "\n",
       "#sk-container-id-1 div.sk-toggleable__content.fitted {\n",
       "  /* fitted */\n",
       "  background-color: var(--sklearn-color-fitted-level-0);\n",
       "}\n",
       "\n",
       "#sk-container-id-1 div.sk-toggleable__content pre {\n",
       "  margin: 0.2em;\n",
       "  border-radius: 0.25em;\n",
       "  color: var(--sklearn-color-text);\n",
       "  /* unfitted */\n",
       "  background-color: var(--sklearn-color-unfitted-level-0);\n",
       "}\n",
       "\n",
       "#sk-container-id-1 div.sk-toggleable__content.fitted pre {\n",
       "  /* unfitted */\n",
       "  background-color: var(--sklearn-color-fitted-level-0);\n",
       "}\n",
       "\n",
       "#sk-container-id-1 input.sk-toggleable__control:checked~div.sk-toggleable__content {\n",
       "  /* Expand drop-down */\n",
       "  max-height: 200px;\n",
       "  max-width: 100%;\n",
       "  overflow: auto;\n",
       "}\n",
       "\n",
       "#sk-container-id-1 input.sk-toggleable__control:checked~label.sk-toggleable__label-arrow:before {\n",
       "  content: \"▾\";\n",
       "}\n",
       "\n",
       "/* Pipeline/ColumnTransformer-specific style */\n",
       "\n",
       "#sk-container-id-1 div.sk-label input.sk-toggleable__control:checked~label.sk-toggleable__label {\n",
       "  color: var(--sklearn-color-text);\n",
       "  background-color: var(--sklearn-color-unfitted-level-2);\n",
       "}\n",
       "\n",
       "#sk-container-id-1 div.sk-label.fitted input.sk-toggleable__control:checked~label.sk-toggleable__label {\n",
       "  background-color: var(--sklearn-color-fitted-level-2);\n",
       "}\n",
       "\n",
       "/* Estimator-specific style */\n",
       "\n",
       "/* Colorize estimator box */\n",
       "#sk-container-id-1 div.sk-estimator input.sk-toggleable__control:checked~label.sk-toggleable__label {\n",
       "  /* unfitted */\n",
       "  background-color: var(--sklearn-color-unfitted-level-2);\n",
       "}\n",
       "\n",
       "#sk-container-id-1 div.sk-estimator.fitted input.sk-toggleable__control:checked~label.sk-toggleable__label {\n",
       "  /* fitted */\n",
       "  background-color: var(--sklearn-color-fitted-level-2);\n",
       "}\n",
       "\n",
       "#sk-container-id-1 div.sk-label label.sk-toggleable__label,\n",
       "#sk-container-id-1 div.sk-label label {\n",
       "  /* The background is the default theme color */\n",
       "  color: var(--sklearn-color-text-on-default-background);\n",
       "}\n",
       "\n",
       "/* On hover, darken the color of the background */\n",
       "#sk-container-id-1 div.sk-label:hover label.sk-toggleable__label {\n",
       "  color: var(--sklearn-color-text);\n",
       "  background-color: var(--sklearn-color-unfitted-level-2);\n",
       "}\n",
       "\n",
       "/* Label box, darken color on hover, fitted */\n",
       "#sk-container-id-1 div.sk-label.fitted:hover label.sk-toggleable__label.fitted {\n",
       "  color: var(--sklearn-color-text);\n",
       "  background-color: var(--sklearn-color-fitted-level-2);\n",
       "}\n",
       "\n",
       "/* Estimator label */\n",
       "\n",
       "#sk-container-id-1 div.sk-label label {\n",
       "  font-family: monospace;\n",
       "  font-weight: bold;\n",
       "  display: inline-block;\n",
       "  line-height: 1.2em;\n",
       "}\n",
       "\n",
       "#sk-container-id-1 div.sk-label-container {\n",
       "  text-align: center;\n",
       "}\n",
       "\n",
       "/* Estimator-specific */\n",
       "#sk-container-id-1 div.sk-estimator {\n",
       "  font-family: monospace;\n",
       "  border: 1px dotted var(--sklearn-color-border-box);\n",
       "  border-radius: 0.25em;\n",
       "  box-sizing: border-box;\n",
       "  margin-bottom: 0.5em;\n",
       "  /* unfitted */\n",
       "  background-color: var(--sklearn-color-unfitted-level-0);\n",
       "}\n",
       "\n",
       "#sk-container-id-1 div.sk-estimator.fitted {\n",
       "  /* fitted */\n",
       "  background-color: var(--sklearn-color-fitted-level-0);\n",
       "}\n",
       "\n",
       "/* on hover */\n",
       "#sk-container-id-1 div.sk-estimator:hover {\n",
       "  /* unfitted */\n",
       "  background-color: var(--sklearn-color-unfitted-level-2);\n",
       "}\n",
       "\n",
       "#sk-container-id-1 div.sk-estimator.fitted:hover {\n",
       "  /* fitted */\n",
       "  background-color: var(--sklearn-color-fitted-level-2);\n",
       "}\n",
       "\n",
       "/* Specification for estimator info (e.g. \"i\" and \"?\") */\n",
       "\n",
       "/* Common style for \"i\" and \"?\" */\n",
       "\n",
       ".sk-estimator-doc-link,\n",
       "a:link.sk-estimator-doc-link,\n",
       "a:visited.sk-estimator-doc-link {\n",
       "  float: right;\n",
       "  font-size: smaller;\n",
       "  line-height: 1em;\n",
       "  font-family: monospace;\n",
       "  background-color: var(--sklearn-color-background);\n",
       "  border-radius: 1em;\n",
       "  height: 1em;\n",
       "  width: 1em;\n",
       "  text-decoration: none !important;\n",
       "  margin-left: 0.5em;\n",
       "  text-align: center;\n",
       "  /* unfitted */\n",
       "  border: var(--sklearn-color-unfitted-level-1) 1pt solid;\n",
       "  color: var(--sklearn-color-unfitted-level-1);\n",
       "}\n",
       "\n",
       ".sk-estimator-doc-link.fitted,\n",
       "a:link.sk-estimator-doc-link.fitted,\n",
       "a:visited.sk-estimator-doc-link.fitted {\n",
       "  /* fitted */\n",
       "  border: var(--sklearn-color-fitted-level-1) 1pt solid;\n",
       "  color: var(--sklearn-color-fitted-level-1);\n",
       "}\n",
       "\n",
       "/* On hover */\n",
       "div.sk-estimator:hover .sk-estimator-doc-link:hover,\n",
       ".sk-estimator-doc-link:hover,\n",
       "div.sk-label-container:hover .sk-estimator-doc-link:hover,\n",
       ".sk-estimator-doc-link:hover {\n",
       "  /* unfitted */\n",
       "  background-color: var(--sklearn-color-unfitted-level-3);\n",
       "  color: var(--sklearn-color-background);\n",
       "  text-decoration: none;\n",
       "}\n",
       "\n",
       "div.sk-estimator.fitted:hover .sk-estimator-doc-link.fitted:hover,\n",
       ".sk-estimator-doc-link.fitted:hover,\n",
       "div.sk-label-container:hover .sk-estimator-doc-link.fitted:hover,\n",
       ".sk-estimator-doc-link.fitted:hover {\n",
       "  /* fitted */\n",
       "  background-color: var(--sklearn-color-fitted-level-3);\n",
       "  color: var(--sklearn-color-background);\n",
       "  text-decoration: none;\n",
       "}\n",
       "\n",
       "/* Span, style for the box shown on hovering the info icon */\n",
       ".sk-estimator-doc-link span {\n",
       "  display: none;\n",
       "  z-index: 9999;\n",
       "  position: relative;\n",
       "  font-weight: normal;\n",
       "  right: .2ex;\n",
       "  padding: .5ex;\n",
       "  margin: .5ex;\n",
       "  width: min-content;\n",
       "  min-width: 20ex;\n",
       "  max-width: 50ex;\n",
       "  color: var(--sklearn-color-text);\n",
       "  box-shadow: 2pt 2pt 4pt #999;\n",
       "  /* unfitted */\n",
       "  background: var(--sklearn-color-unfitted-level-0);\n",
       "  border: .5pt solid var(--sklearn-color-unfitted-level-3);\n",
       "}\n",
       "\n",
       ".sk-estimator-doc-link.fitted span {\n",
       "  /* fitted */\n",
       "  background: var(--sklearn-color-fitted-level-0);\n",
       "  border: var(--sklearn-color-fitted-level-3);\n",
       "}\n",
       "\n",
       ".sk-estimator-doc-link:hover span {\n",
       "  display: block;\n",
       "}\n",
       "\n",
       "/* \"?\"-specific style due to the `<a>` HTML tag */\n",
       "\n",
       "#sk-container-id-1 a.estimator_doc_link {\n",
       "  float: right;\n",
       "  font-size: 1rem;\n",
       "  line-height: 1em;\n",
       "  font-family: monospace;\n",
       "  background-color: var(--sklearn-color-background);\n",
       "  border-radius: 1rem;\n",
       "  height: 1rem;\n",
       "  width: 1rem;\n",
       "  text-decoration: none;\n",
       "  /* unfitted */\n",
       "  color: var(--sklearn-color-unfitted-level-1);\n",
       "  border: var(--sklearn-color-unfitted-level-1) 1pt solid;\n",
       "}\n",
       "\n",
       "#sk-container-id-1 a.estimator_doc_link.fitted {\n",
       "  /* fitted */\n",
       "  border: var(--sklearn-color-fitted-level-1) 1pt solid;\n",
       "  color: var(--sklearn-color-fitted-level-1);\n",
       "}\n",
       "\n",
       "/* On hover */\n",
       "#sk-container-id-1 a.estimator_doc_link:hover {\n",
       "  /* unfitted */\n",
       "  background-color: var(--sklearn-color-unfitted-level-3);\n",
       "  color: var(--sklearn-color-background);\n",
       "  text-decoration: none;\n",
       "}\n",
       "\n",
       "#sk-container-id-1 a.estimator_doc_link.fitted:hover {\n",
       "  /* fitted */\n",
       "  background-color: var(--sklearn-color-fitted-level-3);\n",
       "}\n",
       "</style><div id=\"sk-container-id-1\" class=\"sk-top-container\"><div class=\"sk-text-repr-fallback\"><pre>PySRRegressor.equations_ = [\n",
       "\t   pick     score                                           equation  \\\n",
       "\t0        0.000000                                          0.7318139   \n",
       "\t1  &gt;&gt;&gt;&gt;  0.069483                                 NormR + 0.63610655   \n",
       "\t2        0.051810                  (NLI * -0.27477893) - -0.87142897   \n",
       "\t3        0.018770         ((GARI * SAVI) * -0.41946587) - -0.9170561   \n",
       "\t4        0.020937  ExR + (((SAVI * -0.3824418) * GARI) - -0.8986686)   \n",
       "\t5        0.033980  ((IKAW + 0.7215682) + (IPVI * (-0.80641556 * M...   \n",
       "\t6        0.030741  ((IKAW / 1.3500779) + ((MRBVI * -0.5157377) + ...   \n",
       "\t7        0.010203  ((IKAW / 1.3659428) + (ExR / 0.43098974)) + ((...   \n",
       "\t8        0.009617  (((MRBVI * IPVI) * -0.57016397) + ((IKAW / 1.3...   \n",
       "\t9        0.005405  (((IKAW / 1.3652025) + 0.7100352) + ((MRBVI * ...   \n",
       "\t\n",
       "\t       loss  complexity  \n",
       "\t0  0.004757           1  \n",
       "\t1  0.004140           3  \n",
       "\t2  0.003732           5  \n",
       "\t3  0.003595           7  \n",
       "\t4  0.003448           9  \n",
       "\t5  0.003221          11  \n",
       "\t6  0.003029          13  \n",
       "\t7  0.002968          15  \n",
       "\t8  0.002911          17  \n",
       "\t9  0.002880          19  \n",
       "]</pre><b>In a Jupyter environment, please rerun this cell to show the HTML representation or trust the notebook. <br />On GitHub, the HTML representation is unable to render, please try loading this page with nbviewer.org.</b></div><div class=\"sk-container\" hidden><div class=\"sk-item\"><div class=\"sk-estimator fitted sk-toggleable\"><input class=\"sk-toggleable__control sk-hidden--visually\" id=\"sk-estimator-id-1\" type=\"checkbox\" checked><label for=\"sk-estimator-id-1\" class=\"sk-toggleable__label fitted sk-toggleable__label-arrow\"><div><div>PySRRegressor</div></div><div><span class=\"sk-estimator-doc-link fitted\">i<span>Fitted</span></span></div></label><div class=\"sk-toggleable__content fitted\"><pre>PySRRegressor.equations_ = [\n",
       "\t   pick     score                                           equation  \\\n",
       "\t0        0.000000                                          0.7318139   \n",
       "\t1  &gt;&gt;&gt;&gt;  0.069483                                 NormR + 0.63610655   \n",
       "\t2        0.051810                  (NLI * -0.27477893) - -0.87142897   \n",
       "\t3        0.018770         ((GARI * SAVI) * -0.41946587) - -0.9170561   \n",
       "\t4        0.020937  ExR + (((SAVI * -0.3824418) * GARI) - -0.8986686)   \n",
       "\t5        0.033980  ((IKAW + 0.7215682) + (IPVI * (-0.80641556 * M...   \n",
       "\t6        0.030741  ((IKAW / 1.3500779) + ((MRBVI * -0.5157377) + ...   \n",
       "\t7        0.010203  ((IKAW / 1.3659428) + (ExR / 0.43098974)) + ((...   \n",
       "\t8        0.009617  (((MRBVI * IPVI) * -0.57016397) + ((IKAW / 1.3...   \n",
       "\t9        0.005405  (((IKAW / 1.3652025) + 0.7100352) + ((MRBVI * ...   \n",
       "\t\n",
       "\t       loss  complexity  \n",
       "\t0  0.004757           1  \n",
       "\t1  0.004140           3  \n",
       "\t2  0.003732           5  \n",
       "\t3  0.003595           7  \n",
       "\t4  0.003448           9  \n",
       "\t5  0.003221          11  \n",
       "\t6  0.003029          13  \n",
       "\t7  0.002968          15  \n",
       "\t8  0.002911          17  \n",
       "\t9  0.002880          19  \n",
       "]</pre></div> </div></div></div></div>"
      ],
      "text/plain": [
       "PySRRegressor.equations_ = [\n",
       "\t   pick     score                                           equation  \\\n",
       "\t0        0.000000                                          0.7318139   \n",
       "\t1  >>>>  0.069483                                 NormR + 0.63610655   \n",
       "\t2        0.051810                  (NLI * -0.27477893) - -0.87142897   \n",
       "\t3        0.018770         ((GARI * SAVI) * -0.41946587) - -0.9170561   \n",
       "\t4        0.020937  ExR + (((SAVI * -0.3824418) * GARI) - -0.8986686)   \n",
       "\t5        0.033980  ((IKAW + 0.7215682) + (IPVI * (-0.80641556 * M...   \n",
       "\t6        0.030741  ((IKAW / 1.3500779) + ((MRBVI * -0.5157377) + ...   \n",
       "\t7        0.010203  ((IKAW / 1.3659428) + (ExR / 0.43098974)) + ((...   \n",
       "\t8        0.009617  (((MRBVI * IPVI) * -0.57016397) + ((IKAW / 1.3...   \n",
       "\t9        0.005405  (((IKAW / 1.3652025) + 0.7100352) + ((MRBVI * ...   \n",
       "\t\n",
       "\t       loss  complexity  \n",
       "\t0  0.004757           1  \n",
       "\t1  0.004140           3  \n",
       "\t2  0.003732           5  \n",
       "\t3  0.003595           7  \n",
       "\t4  0.003448           9  \n",
       "\t5  0.003221          11  \n",
       "\t6  0.003029          13  \n",
       "\t7  0.002968          15  \n",
       "\t8  0.002911          17  \n",
       "\t9  0.002880          19  \n",
       "]"
      ]
     },
     "execution_count": 5,
     "metadata": {},
     "output_type": "execute_result"
    }
   ],
   "source": [
    "# Learn equations\n",
    "model = PySRRegressor(\n",
    "    niterations=30,\n",
    "    binary_operators=[\"+\", \"*\",\"-\",\"/\"],\n",
    "    # unary_operators=[\"sqrt\", \"exp\", \"log\"],\n",
    "    extra_sympy_mappings={\"inv\": lambda x: 1 / x},\n",
    "    **default_pysr_params,\n",
    ")\n",
    "\n",
    "model.fit(X, y)"
   ]
  },
  {
   "cell_type": "markdown",
   "metadata": {
    "id": "-bsAECbdkQsQ"
   },
   "source": [
    "We can print the model, which will print out all the discovered expressions:"
   ]
  },
  {
   "cell_type": "code",
   "execution_count": 6,
   "metadata": {
    "colab": {
     "base_uri": "https://localhost:8080/",
     "height": 252
    },
    "id": "4HR8gknlZz4W",
    "outputId": "496283bd-a743-4cc6-a2f9-9619ba91d870"
   },
   "outputs": [],
   "source": [
    "#model"
   ]
  },
  {
   "cell_type": "markdown",
   "metadata": {
    "id": "ME3ddPxXkWQg"
   },
   "source": [
    "We can also view the SymPy format of the best expression:"
   ]
  },
  {
   "cell_type": "code",
   "execution_count": 7,
   "metadata": {
    "colab": {
     "base_uri": "https://localhost:8080/",
     "height": 38
    },
    "id": "IQKOohdpztS7",
    "outputId": "0e7d058a-cce1-45ae-db94-6625f7e53a06"
   },
   "outputs": [
    {
     "data": {
      "text/latex": [
       "$\\displaystyle NormR + 0.63610655$"
      ],
      "text/plain": [
       "NormR + 0.63610655"
      ]
     },
     "execution_count": 7,
     "metadata": {},
     "output_type": "execute_result"
    }
   ],
   "source": [
    "model.sympy()"
   ]
  },
  {
   "cell_type": "markdown",
   "metadata": {
    "id": "EHIIPlmClltn"
   },
   "source": [
    "We can also view the SymPy of any other expression in the list, using the index of it in `model.equations_`."
   ]
  },
  {
   "cell_type": "code",
   "execution_count": 8,
   "metadata": {
    "colab": {
     "base_uri": "https://localhost:8080/",
     "height": 39
    },
    "id": "GRcxq-TTlpRX",
    "outputId": "50bda367-1ed1-4860-8fcf-c940f2e4d935"
   },
   "outputs": [
    {
     "data": {
      "text/latex": [
       "$\\displaystyle NLI \\left(-0.27477893\\right) - -0.87142897$"
      ],
      "text/plain": [
       "NLI*(-0.27477893) - 1*(-0.87142897)"
      ]
     },
     "execution_count": 8,
     "metadata": {},
     "output_type": "execute_result"
    }
   ],
   "source": [
    "model.sympy(2)"
   ]
  },
  {
   "cell_type": "markdown",
   "metadata": {
    "id": "YMugcGX4tbqj"
   },
   "source": [
    "## Output"
   ]
  },
  {
   "cell_type": "markdown",
   "metadata": {
    "id": "gIWt5wz5cjXE"
   },
   "source": [
    "`model.equations_` is a Pandas DataFrame. We can export the results in various ways:"
   ]
  },
  {
   "cell_type": "code",
   "execution_count": 9,
   "metadata": {
    "colab": {
     "base_uri": "https://localhost:8080/",
     "height": 35
    },
    "id": "HFGaNL6tbDgi",
    "outputId": "0f364da5-e18d-4e31-cadf-087d641a3aed"
   },
   "outputs": [
    {
     "data": {
      "text/plain": [
       "'NormR + 0.636'"
      ]
     },
     "execution_count": 9,
     "metadata": {},
     "output_type": "execute_result"
    }
   ],
   "source": [
    "model.latex()"
   ]
  },
  {
   "cell_type": "markdown",
   "metadata": {
    "id": "4hS8kqutcmPQ"
   },
   "source": [
    "These is also `model.sympy(), model.jax(), model.pytorch()`. All of these can take an index as input, to get the result for an arbitrary equation in the list.\n",
    "\n",
    "We can also use `model.predict` for arbitrary equations, with the default equation being the one chosen by `model_selection`:"
   ]
  },
  {
   "cell_type": "markdown",
   "metadata": {
    "colab": {
     "base_uri": "https://localhost:8080/"
    },
    "id": "Vbz4IMsk2NYH",
    "outputId": "361d4b6e-ac23-479d-b511-5001af05ca43",
    "tags": [
     "parameters"
    ]
   },
   "source": [
    "ypredict = model.predict(X)\n",
    "ypredict_simpler = model.predict(X, 2)\n",
    "\n",
    "print(\"Default selection MSE:\", np.power(ypredict - y, 2).mean())\n",
    "print(\"Manual selection MSE for index 2:\", np.power(ypredict_simpler - y, 2).mean())"
   ]
  },
  {
   "cell_type": "markdown",
   "metadata": {},
   "source": [
    "Plotting the first 20 solutions"
   ]
  },
  {
   "cell_type": "code",
   "execution_count": 10,
   "metadata": {},
   "outputs": [
    {
     "ename": "IndexError",
     "evalue": "single positional indexer is out-of-bounds",
     "output_type": "error",
     "traceback": [
      "\u001b[31m---------------------------------------------------------------------------\u001b[39m",
      "\u001b[31mIndexError\u001b[39m                                Traceback (most recent call last)",
      "\u001b[36mCell\u001b[39m\u001b[36m \u001b[39m\u001b[32mIn[10]\u001b[39m\u001b[32m, line 7\u001b[39m\n\u001b[32m      5\u001b[39m \u001b[38;5;66;03m# Iterate over the subplots and data\u001b[39;00m\n\u001b[32m      6\u001b[39m \u001b[38;5;28;01mfor\u001b[39;00m ax, i \u001b[38;5;129;01min\u001b[39;00m \u001b[38;5;28mzip\u001b[39m(axes.flatten(), it):  \u001b[38;5;66;03m# Flatten axes for proper iteration\u001b[39;00m\n\u001b[32m----> \u001b[39m\u001b[32m7\u001b[39m     ypredict_simpler = \u001b[43mmodel\u001b[49m\u001b[43m.\u001b[49m\u001b[43mpredict\u001b[49m\u001b[43m(\u001b[49m\u001b[43mX\u001b[49m\u001b[43m,\u001b[49m\u001b[43m \u001b[49m\u001b[43mindex\u001b[49m\u001b[43m=\u001b[49m\u001b[43mi\u001b[49m\u001b[43m)\u001b[49m  \u001b[38;5;66;03m# Use integer index\u001b[39;00m\n\u001b[32m      8\u001b[39m     ax.plot(ypredict_simpler, y,\u001b[33m'\u001b[39m\u001b[33m.\u001b[39m\u001b[33m'\u001b[39m)\n\u001b[32m      9\u001b[39m     ax.grid(\u001b[38;5;28;01mTrue\u001b[39;00m)\n",
      "\u001b[36mFile \u001b[39m\u001b[32m~\\anaconda3\\envs\\PySR\\Lib\\site-packages\\pysr\\sr.py:2359\u001b[39m, in \u001b[36mPySRRegressor.predict\u001b[39m\u001b[34m(self, X, index, category)\u001b[39m\n\u001b[32m   2325\u001b[39m \u001b[38;5;250m\u001b[39m\u001b[33;03m\"\"\"\u001b[39;00m\n\u001b[32m   2326\u001b[39m \u001b[33;03mPredict y from input X using the equation chosen by `model_selection`.\u001b[39;00m\n\u001b[32m   2327\u001b[39m \n\u001b[32m   (...)\u001b[39m\u001b[32m   2354\u001b[39m \u001b[33;03m    Raises if the `best_equation` cannot be evaluated.\u001b[39;00m\n\u001b[32m   2355\u001b[39m \u001b[33;03m\"\"\"\u001b[39;00m\n\u001b[32m   2356\u001b[39m check_is_fitted(\n\u001b[32m   2357\u001b[39m     \u001b[38;5;28mself\u001b[39m, attributes=[\u001b[33m\"\u001b[39m\u001b[33mselection_mask_\u001b[39m\u001b[33m\"\u001b[39m, \u001b[33m\"\u001b[39m\u001b[33mfeature_names_in_\u001b[39m\u001b[33m\"\u001b[39m, \u001b[33m\"\u001b[39m\u001b[33mnout_\u001b[39m\u001b[33m\"\u001b[39m]\n\u001b[32m   2358\u001b[39m )\n\u001b[32m-> \u001b[39m\u001b[32m2359\u001b[39m best_equation = \u001b[38;5;28;43mself\u001b[39;49m\u001b[43m.\u001b[49m\u001b[43mget_best\u001b[49m\u001b[43m(\u001b[49m\u001b[43mindex\u001b[49m\u001b[43m=\u001b[49m\u001b[43mindex\u001b[49m\u001b[43m)\u001b[49m\n\u001b[32m   2361\u001b[39m \u001b[38;5;66;03m# When X is an numpy array or a pandas dataframe with a RangeIndex,\u001b[39;00m\n\u001b[32m   2362\u001b[39m \u001b[38;5;66;03m# the self.feature_names_in_ generated during fit, for the same X,\u001b[39;00m\n\u001b[32m   2363\u001b[39m \u001b[38;5;66;03m# will cause a warning to be thrown during _validate_data.\u001b[39;00m\n\u001b[32m   2364\u001b[39m \u001b[38;5;66;03m# To avoid this, convert X to a dataframe, apply the selection mask,\u001b[39;00m\n\u001b[32m   2365\u001b[39m \u001b[38;5;66;03m# and then set the column/feature_names of X to be equal to those\u001b[39;00m\n\u001b[32m   2366\u001b[39m \u001b[38;5;66;03m# generated during fit.\u001b[39;00m\n\u001b[32m   2367\u001b[39m \u001b[38;5;28;01mif\u001b[39;00m \u001b[38;5;129;01mnot\u001b[39;00m \u001b[38;5;28misinstance\u001b[39m(X, pd.DataFrame):\n",
      "\u001b[36mFile \u001b[39m\u001b[32m~\\anaconda3\\envs\\PySR\\Lib\\site-packages\\pysr\\sr.py:1370\u001b[39m, in \u001b[36mPySRRegressor.get_best\u001b[39m\u001b[34m(self, index)\u001b[39m\n\u001b[32m   1368\u001b[39m     \u001b[38;5;28;01melse\u001b[39;00m:\n\u001b[32m   1369\u001b[39m         equations_ = cast(pd.DataFrame, \u001b[38;5;28mself\u001b[39m.equations_)\n\u001b[32m-> \u001b[39m\u001b[32m1370\u001b[39m         \u001b[38;5;28;01mreturn\u001b[39;00m cast(pd.Series, \u001b[43mequations_\u001b[49m\u001b[43m.\u001b[49m\u001b[43miloc\u001b[49m\u001b[43m[\u001b[49m\u001b[43mindex\u001b[49m\u001b[43m]\u001b[49m)\n\u001b[32m   1372\u001b[39m \u001b[38;5;28;01mif\u001b[39;00m \u001b[38;5;28misinstance\u001b[39m(\u001b[38;5;28mself\u001b[39m.equations_, \u001b[38;5;28mlist\u001b[39m):\n\u001b[32m   1373\u001b[39m     \u001b[38;5;28;01mreturn\u001b[39;00m [\n\u001b[32m   1374\u001b[39m         cast(pd.Series, eq.loc[idx_model_selection(eq, \u001b[38;5;28mself\u001b[39m.model_selection)])\n\u001b[32m   1375\u001b[39m         \u001b[38;5;28;01mfor\u001b[39;00m eq \u001b[38;5;129;01min\u001b[39;00m \u001b[38;5;28mself\u001b[39m.equations_\n\u001b[32m   1376\u001b[39m     ]\n",
      "\u001b[36mFile \u001b[39m\u001b[32m~\\anaconda3\\envs\\PySR\\Lib\\site-packages\\pandas\\core\\indexing.py:1191\u001b[39m, in \u001b[36m_LocationIndexer.__getitem__\u001b[39m\u001b[34m(self, key)\u001b[39m\n\u001b[32m   1189\u001b[39m maybe_callable = com.apply_if_callable(key, \u001b[38;5;28mself\u001b[39m.obj)\n\u001b[32m   1190\u001b[39m maybe_callable = \u001b[38;5;28mself\u001b[39m._check_deprecated_callable_usage(key, maybe_callable)\n\u001b[32m-> \u001b[39m\u001b[32m1191\u001b[39m \u001b[38;5;28;01mreturn\u001b[39;00m \u001b[38;5;28;43mself\u001b[39;49m\u001b[43m.\u001b[49m\u001b[43m_getitem_axis\u001b[49m\u001b[43m(\u001b[49m\u001b[43mmaybe_callable\u001b[49m\u001b[43m,\u001b[49m\u001b[43m \u001b[49m\u001b[43maxis\u001b[49m\u001b[43m=\u001b[49m\u001b[43maxis\u001b[49m\u001b[43m)\u001b[49m\n",
      "\u001b[36mFile \u001b[39m\u001b[32m~\\anaconda3\\envs\\PySR\\Lib\\site-packages\\pandas\\core\\indexing.py:1752\u001b[39m, in \u001b[36m_iLocIndexer._getitem_axis\u001b[39m\u001b[34m(self, key, axis)\u001b[39m\n\u001b[32m   1749\u001b[39m     \u001b[38;5;28;01mraise\u001b[39;00m \u001b[38;5;167;01mTypeError\u001b[39;00m(\u001b[33m\"\u001b[39m\u001b[33mCannot index by location index with a non-integer key\u001b[39m\u001b[33m\"\u001b[39m)\n\u001b[32m   1751\u001b[39m \u001b[38;5;66;03m# validate the location\u001b[39;00m\n\u001b[32m-> \u001b[39m\u001b[32m1752\u001b[39m \u001b[38;5;28;43mself\u001b[39;49m\u001b[43m.\u001b[49m\u001b[43m_validate_integer\u001b[49m\u001b[43m(\u001b[49m\u001b[43mkey\u001b[49m\u001b[43m,\u001b[49m\u001b[43m \u001b[49m\u001b[43maxis\u001b[49m\u001b[43m)\u001b[49m\n\u001b[32m   1754\u001b[39m \u001b[38;5;28;01mreturn\u001b[39;00m \u001b[38;5;28mself\u001b[39m.obj._ixs(key, axis=axis)\n",
      "\u001b[36mFile \u001b[39m\u001b[32m~\\anaconda3\\envs\\PySR\\Lib\\site-packages\\pandas\\core\\indexing.py:1685\u001b[39m, in \u001b[36m_iLocIndexer._validate_integer\u001b[39m\u001b[34m(self, key, axis)\u001b[39m\n\u001b[32m   1683\u001b[39m len_axis = \u001b[38;5;28mlen\u001b[39m(\u001b[38;5;28mself\u001b[39m.obj._get_axis(axis))\n\u001b[32m   1684\u001b[39m \u001b[38;5;28;01mif\u001b[39;00m key >= len_axis \u001b[38;5;129;01mor\u001b[39;00m key < -len_axis:\n\u001b[32m-> \u001b[39m\u001b[32m1685\u001b[39m     \u001b[38;5;28;01mraise\u001b[39;00m \u001b[38;5;167;01mIndexError\u001b[39;00m(\u001b[33m\"\u001b[39m\u001b[33msingle positional indexer is out-of-bounds\u001b[39m\u001b[33m\"\u001b[39m)\n",
      "\u001b[31mIndexError\u001b[39m: single positional indexer is out-of-bounds"
     ]
    },
    {
     "data": {
      "image/png": "[encoded data removed]",
      "text/plain": [
       "<Figure size 1200x1200 with 20 Axes>"
      ]
     },
     "metadata": {},
     "output_type": "display_data"
    }
   ],
   "source": [
    "fig, axes = plt.subplots(5, 4, figsize=(12, 12))\n",
    "\n",
    "it = np.linspace(0,19,20, dtype=int)  # Ensure indices are integers\n",
    "\n",
    "# Iterate over the subplots and data\n",
    "for ax, i in zip(axes.flatten(), it):  # Flatten axes for proper iteration\n",
    "    ypredict_simpler = model.predict(X, index=i)  # Use integer index\n",
    "    ax.plot(ypredict_simpler, y,'.')\n",
    "    ax.grid(True)\n",
    "    # ax.set_xlabel(\"Modeled LAI\")\n",
    "    # ax.set_ylabel(\"Measured LAI\")\n",
    "    ax.plot( [0,1], [0,1], linestyle='--', color='k' )\n",
    "\n",
    "    ax.set_aspect('equal')\n",
    "    ax.set_xlim(0, 1)\n",
    "    ax.set_ylim(0, 1)\n",
    "    mse =np.power(ypredict_simpler - y, 2).mean()\n",
    "    ax.set_title(round(mse,2))\n",
    "    ax.grid(True)\n",
    "\n",
    "# Adjust layout to prevent overlap\n",
    "plt.tight_layout()\n",
    "plt.show()\n",
    "\n"
   ]
  },
  {
   "cell_type": "markdown",
   "metadata": {},
   "source": [
    "Plotting the difference between the predicted and measured LAI"
   ]
  },
  {
   "cell_type": "code",
   "execution_count": null,
   "metadata": {},
   "outputs": [],
   "source": [
    "fig, axes = plt.subplots(5, 4, figsize=(12, 12))\n",
    "\n",
    "it = np.linspace(0,19,20, dtype=int)  # Ensure indices are integers\n",
    "\n",
    "# Iterate over the subplots and data\n",
    "for ax, i in zip(axes.flatten(), it):  # Flatten axes for proper iteration\n",
    "    ypredict_simpler = model.predict(X, index=i)  # Use integer index\n",
    "    ax.plot(y,ypredict_simpler-y,'.')\n",
    "    ax.grid(True)\n",
    "    # ax.set_xlabel(\"Modeled LAI\")\n",
    "    # ax.set_ylabel(\"Measured LAI\")\n",
    "    # ax.plot( [0,5], [-5,5], linestyle='--', color='k' )\n",
    "\n",
    "    ax.set_aspect('equal')\n",
    "    ax.set_xlim(0, 1)\n",
    "    ax.set_ylim(-1, 1)\n",
    "    mse =np.power(ypredict_simpler - y, 2).mean()\n",
    "    ax.set_title(round(mse,2))\n",
    "    ax.grid(True)\n",
    "\n",
    "# Adjust layout to prevent overlap\n",
    "# plt.tight_layout()\n",
    "plt.show()\n",
    "\n"
   ]
  },
  {
   "cell_type": "markdown",
   "metadata": {
    "id": "1QsHVjAVbDhk"
   },
   "source": [
    "# Other PySR Options"
   ]
  },
  {
   "cell_type": "markdown",
   "metadata": {
    "id": "S5dO61g1bDhk"
   },
   "source": [
    "The full list of PySR parameters can be found here: https://ai.damtp.cam.ac.uk/pysr/api"
   ]
  }
 ],
 "metadata": {
  "accelerator": "GPU",
  "colab": {
   "provenance": []
  },
  "gpuClass": "standard",
  "kernelspec": {
   "display_name": "Python 3 (ipykernel)",
   "language": "python",
   "name": "python3"
  },
  "language_info": {
   "codemirror_mode": {
    "name": "ipython",
    "version": 3
   },
   "file_extension": ".py",
   "mimetype": "text/x-python",
   "name": "python",
   "nbconvert_exporter": "python",
   "pygments_lexer": "ipython3",
   "version": "3.13.3"
  }
 },
 "nbformat": 4,
 "nbformat_minor": 4
}
